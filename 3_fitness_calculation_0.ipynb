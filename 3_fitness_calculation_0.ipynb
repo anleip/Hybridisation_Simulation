{
 "cells": [
  {
   "cell_type": "markdown",
   "source": [
    "# Notations\n",
    "D : the total number of gene loci concerned\n",
    "g : derived allele (variable)\n",
    "j : a specific gene locus\n",
    "n : the number of affected traits\n",
    "i : a specific trait\n",
    "z : trait value\n",
    "o : trait values with the optimum fitness\n",
    "w : fitness value"
   ],
   "metadata": {
    "collapsed": false
   }
  },
  {
   "cell_type": "code",
   "execution_count": 1,
   "outputs": [],
   "source": [
    "import numpy as np"
   ],
   "metadata": {
    "collapsed": false
   }
  },
  {
   "cell_type": "code",
   "execution_count": 18,
   "outputs": [],
   "source": [
    "def random_data_gen1(D,n,seedValue):\n",
    "    rng = np.random.default_rng(seedValue)\n",
    "    der_ale = rng.integers(low=0, high=3, size=D)\n",
    "    phen_eff = rng.integers(low=-2,high=3,size=[D,n])\n",
    "\n",
    "    return der_ale,phen_eff"
   ],
   "metadata": {
    "collapsed": false
   }
  },
  {
   "cell_type": "code",
   "execution_count": 19,
   "outputs": [
    {
     "name": "stdout",
     "output_type": "stream",
     "text": [
      "[1 0 1 1 0 2 0 0]\n",
      "[[-2  1  1  0 -1  2  2  0  1  2]\n",
      " [-2 -1 -2 -2  0 -1  2  1  2  0]\n",
      " [ 0  2  1  2  0  2 -2 -2  0  0]\n",
      " [ 2  1 -1  2  1 -2 -1  1  2 -2]\n",
      " [-1  1  1  0  0 -2  2 -2 -1  0]\n",
      " [-1  0 -1  0  2  2 -1  2  1 -1]\n",
      " [ 2 -2 -1 -1  0  2  0 -1  2 -2]\n",
      " [ 2  1  1  1  2 -2  2 -2  1 -2]]\n",
      "[0. 0. 0. 0. 0. 0. 0. 0. 0. 0.]\n",
      "[0. 0. 0. 0. 0. 0. 0. 0. 0. 0.]\n"
     ]
    }
   ],
   "source": [
    "D = 8; n = 10; seedValue = 102\n",
    "\n",
    "der_ale_1 = random_data_gen1(D,n,seedValue)[0]\n",
    "phen_eff_1 = random_data_gen1(D,n,seedValue)[1]\n",
    "zWT_0 = np.zeros(n)\n",
    "opt_phen_0 = np.zeros(n)\n",
    "\n",
    "print(der_ale_1)\n",
    "print(phen_eff_1)\n",
    "print(zWT_0)\n",
    "print(opt_phen_0)"
   ],
   "metadata": {
    "collapsed": false
   }
  },
  {
   "cell_type": "code",
   "execution_count": 20,
   "outputs": [
    {
     "name": "stdout",
     "output_type": "stream",
     "text": [
      "[1 0 1 1 0 4 0 0]\n",
      "7\n"
     ]
    }
   ],
   "source": [
    "a = der_ale_1 **2\n",
    "print(a)\n",
    "print(sum(a))"
   ],
   "metadata": {
    "collapsed": false
   }
  },
  {
   "cell_type": "code",
   "execution_count": 21,
   "outputs": [
    {
     "name": "stdout",
     "output_type": "stream",
     "text": [
      "[-2.  4. -1.  4.  4.  6. -3.  3.  5. -2.]\n",
      "[ 4. 16.  1. 16. 16. 36.  9.  9. 25.  4.]\n"
     ]
    }
   ],
   "source": [
    "z_i = zWT_0 + np.matmul(der_ale_1,phen_eff_1)\n",
    "print(z_i)\n",
    "z_sq = (z_i - opt_phen_0)**2\n",
    "print(z_sq)"
   ],
   "metadata": {
    "collapsed": false
   }
  },
  {
   "cell_type": "code",
   "execution_count": 24,
   "outputs": [],
   "source": [
    "def fitness_val(der_ale,phen_eff,zWT,opt_phen):\n",
    "    z_i = zWT + np.matmul(der_ale,phen_eff)\n",
    "    z_sq = (z_i-opt_phen)**2\n",
    "    w = np.exp(-sum(z_sq))\n",
    "    log_w = np.log(w)\n",
    "    return w,log_w"
   ],
   "metadata": {
    "collapsed": false
   }
  },
  {
   "cell_type": "code",
   "execution_count": 25,
   "outputs": [
    {
     "data": {
      "text/plain": "(8.628801156620959e-60, -136.0)"
     },
     "execution_count": 25,
     "metadata": {},
     "output_type": "execute_result"
    }
   ],
   "source": [
    "fitness_val(der_ale_1,phen_eff_1,zWT_0,opt_phen_0)"
   ],
   "metadata": {
    "collapsed": false
   }
  },
  {
   "cell_type": "code",
   "execution_count": null,
   "outputs": [],
   "source": [],
   "metadata": {
    "collapsed": false
   }
  }
 ],
 "metadata": {
  "kernelspec": {
   "display_name": "Python 3",
   "language": "python",
   "name": "python3"
  },
  "language_info": {
   "codemirror_mode": {
    "name": "ipython",
    "version": 2
   },
   "file_extension": ".py",
   "mimetype": "text/x-python",
   "name": "python",
   "nbconvert_exporter": "python",
   "pygments_lexer": "ipython2",
   "version": "2.7.6"
  }
 },
 "nbformat": 4,
 "nbformat_minor": 0
}
