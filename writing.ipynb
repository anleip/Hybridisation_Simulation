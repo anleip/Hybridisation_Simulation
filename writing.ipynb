{
 "cells": [
  {
   "cell_type": "code",
   "execution_count": 1,
   "metadata": {
    "collapsed": true
   },
   "outputs": [],
   "source": [
    "import numpy as np\n"
   ]
  },
  {
   "cell_type": "code",
   "execution_count": 2,
   "outputs": [],
   "source": [
    "# fitness function\n",
    "def fitness_val(der_ale,A,zWT,O):\n",
    "    z_i = zWT + np.matmul(A,der_ale)\n",
    "    z_sq = np.square(z_i-O)\n",
    "    w = np.ravel(np.exp(-np.sum(z_sq,axis=0))) #np.ravel to flatten matrix into a 1D array\n",
    "    #log_w = np.log(w)\n",
    "    return w"
   ],
   "metadata": {
    "collapsed": false
   }
  },
  {
   "cell_type": "code",
   "execution_count": 3,
   "outputs": [],
   "source": [
    "# hybridisation simulation with chance of choosing parent proportional to their fitness\n",
    "def hybridisation_proportional_fitness(P1,P2,N,A,zWT,O,seedValue):\n",
    "    rng = np.random.default_rng(seedValue)\n",
    "    T = 1 #number of generations\n",
    "    D = P1.shape[0]\n",
    "    P1 = np.matrix(P1); P2 = np.matrix(P2)\n",
    "    P1_fit = fitness_val(P1,A,zWT,O)\n",
    "    P1_choice = np.random.choice(range(N),N,replace=True,p=(P1_fit)/sum(P1_fit))\n",
    "    S1 = np.zeros([D,1])\n",
    "    for i in P1_choice:\n",
    "        s = P1[:,i]\n",
    "        S1 = np.concatenate((S1,s),axis=1)\n",
    "    S1 = np.delete(S1,0,1)\n",
    "    P2_fit = fitness_val(P2,A,zWT,O)\n",
    "    P2_choice = np.random.choice(range(N),N,replace=True,p=(P2_fit)/sum(P2_fit))\n",
    "    # sample from the new population with replacement\n",
    "    S2 = np.zeros([D,1])\n",
    "    for i in P2_choice:\n",
    "        s = P2[:,i]\n",
    "        S2 = np.concatenate((S2,s),axis=1)\n",
    "    S2 = np.delete(S2,0,1)\n",
    "\n",
    "    np.place(S1,S1 == 1,rng.binomial(1,0.5,[D,N])*2)\n",
    "    np.place(S2,S2 == 1,rng.binomial(1,0.5,[D,N])*2)\n",
    "    F = np.matrix((S1 + S2)/2)\n",
    "\n",
    "    while 1 in F:\n",
    "        # sample two parental populations from the new population with replacement. Probability proportional to fitness\n",
    "        F_fit_1 = fitness_val(F,A,zWT,O)\n",
    "        P1_choice = np.random.choice(range(N),N,replace=True,p=(F_fit_1)/sum(F_fit_1))\n",
    "        S1 = np.zeros([D,1])\n",
    "        for i in P1_choice:\n",
    "            s = F[:,i]\n",
    "            S1 = np.concatenate((S1,s),axis=1)\n",
    "        S1 = np.delete(S1,0,1)\n",
    "        F_fit_2 = fitness_val(F,A,zWT,O)\n",
    "        P2_choice = np.random.choice(range(N),N,replace=True,p=(F_fit_2)/sum(F_fit_2))\n",
    "        # sample from the new population with replacement\n",
    "        S2 = np.zeros([D,1])\n",
    "        for i in P2_choice:\n",
    "            s = F[:,i]\n",
    "            S2 = np.concatenate((S2,s),axis=1)\n",
    "        S2 = np.delete(S2,0,1)\n",
    "        # a new hybridisation\n",
    "        np.place(S1,S1 == 1,rng.binomial(1,0.5,[D,N])*2)\n",
    "        np.place(S2,S2 == 1,rng.binomial(1,0.5,[D,N])*2)\n",
    "        F = (S1 + S2)/2\n",
    "        T += 1\n",
    "        print(f\"F {T}\")\n",
    "        print(F)\n",
    "    H = np.mean(F)/2\n",
    "    return F, T, H"
   ],
   "metadata": {
    "collapsed": false
   }
  },
  {
   "cell_type": "markdown",
   "source": [
    "# Random mating\n",
    "\n",
    "This is a case where there is no selection (i.e. the A matrix is a zero matrix). Under such condition, the expected output should follow these patterns:\n",
    "\n",
    "1. the final population should on average have a hybridisation index (H) of 0.5\n",
    "2. time to fixation (T) should be proportional to N\n",
    "3."
   ],
   "metadata": {
    "collapsed": false
   }
  },
  {
   "cell_type": "code",
   "execution_count": 3,
   "outputs": [],
   "source": [],
   "metadata": {
    "collapsed": false
   }
  },
  {
   "cell_type": "code",
   "execution_count": 3,
   "outputs": [],
   "source": [],
   "metadata": {
    "collapsed": false
   }
  }
 ],
 "metadata": {
  "kernelspec": {
   "display_name": "Python 3",
   "language": "python",
   "name": "python3"
  },
  "language_info": {
   "codemirror_mode": {
    "name": "ipython",
    "version": 2
   },
   "file_extension": ".py",
   "mimetype": "text/x-python",
   "name": "python",
   "nbconvert_exporter": "python",
   "pygments_lexer": "ipython2",
   "version": "2.7.6"
  }
 },
 "nbformat": 4,
 "nbformat_minor": 0
}
