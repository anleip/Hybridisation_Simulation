{
 "cells": [
  {
   "cell_type": "code",
   "execution_count": 1,
   "metadata": {
    "collapsed": true
   },
   "outputs": [],
   "source": [
    "import numpy as np\n"
   ]
  },
  {
   "cell_type": "code",
   "execution_count": 2,
   "outputs": [],
   "source": [
    "def fitness_val(der_ale,A,zWT,O):\n",
    "    z_i = zWT + np.matmul(A,der_ale)\n",
    "    z_sq = np.square(z_i-O)\n",
    "    w = np.ravel(np.exp(-np.sum(z_sq,axis=0))) #np.ravel to flatten matrix into a 1D array\n",
    "    #log_w = np.log(w)\n",
    "    return w"
   ],
   "metadata": {
    "collapsed": false
   }
  },
  {
   "cell_type": "code",
   "execution_count": 3,
   "outputs": [
    {
     "name": "stdout",
     "output_type": "stream",
     "text": [
      "[[-2  1  0  0 -2]\n",
      " [-2 -1  0  0 -2]\n",
      " [-2  1 -2  0  0]\n",
      " [ 0  0  0 -1  2]\n",
      " [-2 -1  1 -1  0]\n",
      " [ 1 -2 -2 -1 -1]]\n",
      "[[0. 0. 0. 0. 0. 0. 0. 0. 0. 0.]\n",
      " [0. 0. 0. 0. 0. 0. 0. 0. 0. 0.]\n",
      " [0. 0. 0. 0. 0. 0. 0. 0. 0. 0.]\n",
      " [0. 0. 0. 0. 0. 0. 0. 0. 0. 0.]\n",
      " [0. 0. 0. 0. 0. 0. 0. 0. 0. 0.]]\n",
      "10.0\n",
      "(10,)\n",
      "[0.1 0.1 0.1 0.1 0.1 0.1 0.1 0.1 0.1 0.1]\n",
      "(10,)\n",
      "[3 8 7 2 5 6 2 2 3 2]\n",
      "int64\n"
     ]
    }
   ],
   "source": [
    "D = 5; N = 10; n = 6\n",
    "rng = np.random.default_rng()\n",
    "A = rng.integers(low=-2,high=3,size=[n,D])\n",
    "print(A)\n",
    "zWT_0 = np.zeros([n,N])\n",
    "opt_phen_0 = np.zeros([n,N])\n",
    "F = np.matrix(np.zeros([D,N]))\n",
    "print(F)\n",
    "\n",
    "w = fitness_val(F,A,zWT_0,opt_phen_0)\n",
    "#print(np.squeeze(w,axis=0))\n",
    "print(np.sum(w))\n",
    "print(w.shape)\n",
    "a = w/np.sum(w)\n",
    "print(a)\n",
    "print(a.shape)\n",
    "\n",
    "P1_choice = np.random.choice(range(N),N,replace=True,p=a)\n",
    "print(P1_choice)\n",
    "print(P1_choice.dtype)"
   ],
   "metadata": {
    "collapsed": false
   }
  },
  {
   "cell_type": "code",
   "execution_count": 4,
   "outputs": [
    {
     "name": "stdout",
     "output_type": "stream",
     "text": [
      "[0 1 2 3 4]\n",
      "[1 1 1 1 1]\n"
     ]
    }
   ],
   "source": [
    "# test the numpy.random.choice function\n",
    "a = np.array(range(5))\n",
    "print(a)\n",
    "fitness = np.array([2,100,3,5,0])\n",
    "\n",
    "choice = np.random.choice(a,5,replace=True, p=(fitness/sum(fitness)))\n",
    "print(choice)"
   ],
   "metadata": {
    "collapsed": false
   }
  },
  {
   "cell_type": "code",
   "execution_count": 5,
   "outputs": [],
   "source": [
    "# chance of choosing parent proportional to their fitness\n",
    "def hybridisation_proportional_fitness(P1,P2,N,A,zWT,O,seedValue):\n",
    "    rng = np.random.default_rng(seedValue)\n",
    "    G = 1 #number of generations\n",
    "    D = P1.shape[0]\n",
    "    P1 = np.matrix(P1); P2 = np.matrix(P2)\n",
    "    P1_fit = fitness_val(P1,A,zWT,O)\n",
    "    P1_choice = np.random.choice(range(N),N,replace=True,p=(P1_fit)/sum(P1_fit))\n",
    "    S1 = np.zeros([D,1])\n",
    "    for i in P1_choice:\n",
    "        s = P1[:,i]\n",
    "        S1 = np.concatenate((S1,s),axis=1)\n",
    "    S1 = np.delete(S1,0,1)\n",
    "    P2_fit = fitness_val(P2,A,zWT,O)\n",
    "    P2_choice = np.random.choice(range(N),N,replace=True,p=(P2_fit)/sum(P2_fit))\n",
    "    # sample from the new population with replacement\n",
    "    S2 = np.zeros([D,1])\n",
    "    for i in P2_choice:\n",
    "        s = P2[:,i]\n",
    "        S2 = np.concatenate((S2,s),axis=1)\n",
    "    S2 = np.delete(S2,0,1)\n",
    "\n",
    "    np.place(S1,S1 == 1,rng.binomial(1,0.5,[D,N])*2)\n",
    "    np.place(S2,S2 == 1,rng.binomial(1,0.5,[D,N])*2)\n",
    "    F = np.matrix((S1 + S2)/2)\n",
    "\n",
    "    while 1 in F:\n",
    "        # sample two parental populations from the new population with replacement. Probability proportional to fitness\n",
    "        F_fit_1 = fitness_val(F,A,zWT,O)\n",
    "        P1_choice = np.random.choice(range(N),N,replace=True,p=(F_fit_1)/sum(F_fit_1))\n",
    "        S1 = np.zeros([D,1])\n",
    "        for i in P1_choice:\n",
    "            s = F[:,i]\n",
    "            S1 = np.concatenate((S1,s),axis=1)\n",
    "        S1 = np.delete(S1,0,1)\n",
    "        F_fit_2 = fitness_val(F,A,zWT,O)\n",
    "        P2_choice = np.random.choice(range(N),N,replace=True,p=(F_fit_2)/sum(F_fit_2))\n",
    "        # sample from the new population with replacement\n",
    "        S2 = np.zeros([D,1])\n",
    "        for i in P2_choice:\n",
    "            s = F[:,i]\n",
    "            S2 = np.concatenate((S2,s),axis=1)\n",
    "        S2 = np.delete(S2,0,1)\n",
    "        # a new hybridisation\n",
    "        np.place(S1,S1 == 1,rng.binomial(1,0.5,[D,N])*2)\n",
    "        np.place(S2,S2 == 1,rng.binomial(1,0.5,[D,N])*2)\n",
    "        F = (S1 + S2)/2\n",
    "        G += 1\n",
    "        print(f\"F {G}\")\n",
    "        print(F)\n",
    "    H = np.mean(F)/2\n",
    "    return F, G, H"
   ],
   "metadata": {
    "collapsed": false
   }
  },
  {
   "cell_type": "code",
   "execution_count": 6,
   "outputs": [
    {
     "name": "stdout",
     "output_type": "stream",
     "text": [
      "[[0. 0. 0. 0. 0. 0. 0. 0. 0. 0.]\n",
      " [0. 0. 0. 0. 0. 0. 0. 0. 0. 0.]\n",
      " [0. 0. 0. 0. 0. 0. 0. 0. 0. 0.]\n",
      " [0. 0. 0. 0. 0. 0. 0. 0. 0. 0.]\n",
      " [0. 0. 0. 0. 0. 0. 0. 0. 0. 0.]]\n",
      "[[0. 0. 0. 0. 0. 0. 0. 0. 0. 0.]\n",
      " [0. 0. 0. 0. 0. 0. 0. 0. 0. 0.]\n",
      " [0. 0. 0. 0. 0. 0. 0. 0. 0. 0.]\n",
      " [0. 0. 0. 0. 0. 0. 0. 0. 0. 0.]\n",
      " [0. 0. 0. 0. 0. 0. 0. 0. 0. 0.]]\n",
      "[[0.]\n",
      " [0.]\n",
      " [0.]\n",
      " [0.]\n",
      " [0.]]\n",
      "[[0.]\n",
      " [0.]\n",
      " [0.]\n",
      " [0.]\n",
      " [0.]]\n",
      "[[0.]\n",
      " [0.]\n",
      " [0.]\n",
      " [0.]\n",
      " [0.]]\n",
      "[[0.]\n",
      " [0.]\n",
      " [0.]\n",
      " [0.]\n",
      " [0.]]\n",
      "[[0.]\n",
      " [0.]\n",
      " [0.]\n",
      " [0.]\n",
      " [0.]]\n"
     ]
    }
   ],
   "source": [
    "D = 5; N = 10; n = 5\n",
    "rng = np.random.default_rng()\n",
    "P1 = np.zeros([D,N])\n",
    "P2 = np.full([D,N],2)\n",
    "A = rng.integers(low=-2,high=3,size=[n,D])\n",
    "#print(A)\n",
    "zWT_0 = np.zeros([n,N])\n",
    "O = np.zeros([n,N])\n",
    "\n",
    "print(P1)\n",
    "print(np.matrix(P1))\n",
    "P1 = np.matrix(P1)\n",
    "for i in range(5):\n",
    "    print(P1[:,i])"
   ],
   "metadata": {
    "collapsed": false
   }
  },
  {
   "cell_type": "code",
   "execution_count": 7,
   "outputs": [
    {
     "name": "stdout",
     "output_type": "stream",
     "text": [
      "[[ 0 -2  0  0 -1]\n",
      " [ 2 -1 -1 -2  1]\n",
      " [ 1  0 -1  2  2]\n",
      " [ 0  1  2 -2 -1]\n",
      " [-2 -2  0 -1  2]]\n",
      "F 2\n",
      "[[0. 1. 1. 2. 1. 0. 2. 2. 0. 1.]\n",
      " [0. 1. 1. 1. 2. 0. 2. 2. 1. 1.]\n",
      " [1. 1. 1. 1. 1. 2. 2. 2. 1. 0.]\n",
      " [2. 2. 1. 1. 0. 0. 2. 2. 0. 1.]\n",
      " [1. 0. 1. 1. 1. 0. 1. 1. 2. 2.]]\n",
      "F 3\n",
      "[[0. 0. 0. 0. 0. 0. 0. 0. 0. 0.]\n",
      " [0. 0. 0. 0. 0. 0. 0. 0. 0. 0.]\n",
      " [2. 2. 2. 2. 2. 2. 2. 2. 2. 2.]\n",
      " [0. 0. 0. 0. 0. 0. 0. 0. 0. 0.]\n",
      " [0. 0. 0. 0. 0. 0. 0. 0. 0. 0.]]\n",
      "(matrix([[0., 0., 0., 0., 0., 0., 0., 0., 0., 0.],\n",
      "        [0., 0., 0., 0., 0., 0., 0., 0., 0., 0.],\n",
      "        [2., 2., 2., 2., 2., 2., 2., 2., 2., 2.],\n",
      "        [0., 0., 0., 0., 0., 0., 0., 0., 0., 0.],\n",
      "        [0., 0., 0., 0., 0., 0., 0., 0., 0., 0.]]), 3, 0.2)\n"
     ]
    }
   ],
   "source": [
    "D = 5; N = 10; n = 5\n",
    "rng = np.random.default_rng(102)\n",
    "P1 = np.zeros([D,N])\n",
    "P2 = np.full([D,N],2)\n",
    "A = rng.integers(low=-2,high=3,size=[n,D])\n",
    "print(A)\n",
    "zWT_0 = np.zeros([n,N])\n",
    "O = np.zeros([n,N])\n",
    "\n",
    "w = hybridisation_proportional_fitness(P1=P1,P2=P2,N=N,A=A,zWT=zWT_0,O=O,seedValue=None)\n",
    "print(w)"
   ],
   "metadata": {
    "collapsed": false
   }
  },
  {
   "cell_type": "code",
   "execution_count": 7,
   "outputs": [],
   "source": [],
   "metadata": {
    "collapsed": false
   }
  },
  {
   "cell_type": "code",
   "execution_count": 7,
   "outputs": [],
   "source": [],
   "metadata": {
    "collapsed": false
   }
  },
  {
   "cell_type": "code",
   "execution_count": 7,
   "outputs": [],
   "source": [],
   "metadata": {
    "collapsed": false
   }
  }
 ],
 "metadata": {
  "kernelspec": {
   "display_name": "Python 3",
   "language": "python",
   "name": "python3"
  },
  "language_info": {
   "codemirror_mode": {
    "name": "ipython",
    "version": 2
   },
   "file_extension": ".py",
   "mimetype": "text/x-python",
   "name": "python",
   "nbconvert_exporter": "python",
   "pygments_lexer": "ipython2",
   "version": "2.7.6"
  }
 },
 "nbformat": 4,
 "nbformat_minor": 0
}
