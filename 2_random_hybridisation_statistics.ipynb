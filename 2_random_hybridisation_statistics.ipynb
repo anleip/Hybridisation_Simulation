{
 "cells": [
  {
   "cell_type": "code",
   "execution_count": 4,
   "metadata": {
    "collapsed": true
   },
   "outputs": [],
   "source": [
    "import numpy as np\n",
    "import time\n",
    "import matplotlib.pyplot as plt\n",
    "import time"
   ]
  },
  {
   "cell_type": "code",
   "execution_count": 2,
   "outputs": [],
   "source": [
    "# without making a copy\n",
    "def hybridisation_no_selection_OptSpeed_1(P1,P2,N,seedValue):\n",
    "    rng = np.random.default_rng(seedValue)\n",
    "    G = 1 #number of generations\n",
    "    D = P1.shape[0]\n",
    "    np.place(P1,P1 == 1,rng.binomial(1,0.5,[D,N])*2)\n",
    "    np.place(P2,P2 == 1,rng.binomial(1,0.5,[D,N])*2)\n",
    "    F = np.matrix((P1 + P2)/2)\n",
    "\n",
    "    while 1 in F:\n",
    "        # sample two parental populations from the new population with replacement\n",
    "        b1 = rng.integers(low=0,high=N,size=N)\n",
    "        S1 = np.zeros([D,1])\n",
    "        for i in b1:\n",
    "            s = F[:,i]\n",
    "            S1 = np.concatenate((S1,s),axis=1)\n",
    "        S1 = np.delete(S1,0,1)\n",
    "        b2 = rng.integers(low=0,high=N,size=N)\n",
    "        # sample from the new population with replacement\n",
    "        S2 = np.zeros([D,1])\n",
    "        for i in b2:\n",
    "            s = F[:,i]\n",
    "            S2 = np.concatenate((S2,s),axis=1)\n",
    "        S2 = np.delete(S2,0,1)\n",
    "        # a new hybridisation\n",
    "        np.place(S1,S1 == 1,rng.binomial(1,0.5,[D,N])*2)\n",
    "        np.place(S2,S2 == 1,rng.binomial(1,0.5,[D,N])*2)\n",
    "        F = (S1 + S2)/2\n",
    "        G += 1\n",
    "        #print(f\"F {G}\")\n",
    "        #print(F)\n",
    "    H = np.mean(F)/2\n",
    "    return F, G, H"
   ],
   "metadata": {
    "collapsed": false
   }
  },
  {
   "cell_type": "code",
   "execution_count": 3,
   "outputs": [
    {
     "name": "stdout",
     "output_type": "stream",
     "text": [
      "[[-2  2  0  1 -2]\n",
      " [-1  2 -2 -1  1]\n",
      " [ 0 -2  1 -2  0]\n",
      " [ 1 -2  1  1  2]\n",
      " [ 2 -1  2 -1  2]]\n",
      "(matrix([[0., 0., 0., 0., 0., 0., 0., 0., 0., 0.],\n",
      "        [2., 2., 2., 2., 2., 2., 2., 2., 2., 2.],\n",
      "        [2., 2., 2., 2., 2., 2., 2., 2., 2., 2.],\n",
      "        [0., 0., 0., 0., 0., 0., 0., 0., 0., 0.],\n",
      "        [0., 0., 0., 0., 0., 0., 0., 0., 0., 0.]]), 47, 0.4)\n"
     ]
    }
   ],
   "source": [
    "D = 5; N = 10; n = 5\n",
    "rng = np.random.default_rng()\n",
    "P1 = np.zeros([D,N])\n",
    "P2 = np.full([D,N],2)\n",
    "A = rng.integers(low=-2,high=3,size=[n,D])\n",
    "print(A)\n",
    "zWT_0 = np.zeros([n,N])\n",
    "O = np.zeros([n,N])\n",
    "\n",
    "w = hybridisation_no_selection_OptSpeed_1(P1=np.zeros([D,N]), P2=np.full([D,N],2),N=N, seedValue=None)\n",
    "print(w)"
   ],
   "metadata": {
    "collapsed": false
   }
  },
  {
   "cell_type": "markdown",
   "source": [
    "# Time to fixation is proportional to population size"
   ],
   "metadata": {
    "collapsed": false
   }
  },
  {
   "cell_type": "code",
   "execution_count": 8,
   "outputs": [
    {
     "name": "stdout",
     "output_type": "stream",
     "text": [
      "mean generation time [ 28.1   63.06  97.21 127.74 168.13 193.82 235.43 285.31 298.59 343.09\n",
      " 345.52 372.56 421.05 456.69 490.01 534.06 579.4  610.38 646.26 637.43]\n",
      "mean hybrid index [0.52       0.49       0.50606667 0.5102     0.49704    0.49086667\n",
      " 0.49497143 0.471      0.50602222 0.50604    0.492      0.48401667\n",
      " 0.502      0.51101429 0.496      0.5        0.49101176 0.50297778\n",
      " 0.49701053 0.495     ]\n"
     ]
    }
   ],
   "source": [
    "# 100 times repeat averaging, with population size at the increment of 5\n",
    "D = 10\n",
    "G_50 = []; H_50 = []\n",
    "for N_i in range(5,101,5):\n",
    "    G = []; H = []\n",
    "    for i in range(100):\n",
    "        w = hybridisation_no_selection_OptSpeed_1(P1=np.zeros([D,N_i]), P2=np.full([D,N_i],2),N=N_i, seedValue=None)\n",
    "        F_i = w[0]\n",
    "        G_i = w[1]\n",
    "        H_i = w[2]\n",
    "        G = np.append(G,G_i)\n",
    "        H = np.append(H,H_i)\n",
    "    G_50 = np.append(G_50,np.mean(G))\n",
    "    H_50 = np.append(H_50,np.mean(H))\n",
    "print(f\"mean generation time {G_50}\")\n",
    "print(f\"mean hybrid index {H_50}\")"
   ],
   "metadata": {
    "collapsed": false
   }
  },
  {
   "cell_type": "code",
   "execution_count": 12,
   "outputs": [
    {
     "data": {
      "text/plain": "Text(0, 0.5, 'mean generations to fixation')"
     },
     "execution_count": 12,
     "metadata": {},
     "output_type": "execute_result"
    },
    {
     "data": {
      "text/plain": "<Figure size 640x480 with 1 Axes>",
      "image/png": "[encoded data removed]"
     },
     "metadata": {},
     "output_type": "display_data"
    }
   ],
   "source": [
    "plt.plot(range(5,101,5),G_50)\n",
    "plt.xlabel(\"N\")\n",
    "plt.ylabel(\"time to fixation (G)\")"
   ],
   "metadata": {
    "collapsed": false
   }
  },
  {
   "cell_type": "code",
   "execution_count": 14,
   "outputs": [
    {
     "data": {
      "text/plain": "Text(0, 0.5, 'hybridisation index (H)')"
     },
     "execution_count": 14,
     "metadata": {},
     "output_type": "execute_result"
    },
    {
     "data": {
      "text/plain": "<Figure size 640x480 with 1 Axes>",
      "image/png": "[encoded data removed]"
     },
     "metadata": {},
     "output_type": "display_data"
    }
   ],
   "source": [
    "plt.plot(range(5,101,5),H_50)\n",
    "plt.ylim([0,1])\n",
    "plt.xlabel(\"N\")\n",
    "plt.ylabel(\"hybridisation index (H)\")"
   ],
   "metadata": {
    "collapsed": false
   }
  },
  {
   "cell_type": "markdown",
   "source": [
    "# Time to fixation increases to number of derive alleles increases"
   ],
   "metadata": {
    "collapsed": false
   }
  },
  {
   "cell_type": "code",
   "execution_count": 14,
   "outputs": [
    {
     "name": "stdout",
     "output_type": "stream",
     "text": [
      "mean generation time [270.15 318.48 372.29 395.66 430.58 411.78 453.44 439.51 471.15 493.1\n",
      " 474.04 506.07 517.61 522.15 511.92 534.89 544.38 550.01 574.06 554.94]\n",
      "mean hybrid index [0.46996    0.50302    0.50936    0.50097    0.5124     0.501\n",
      " 0.49512571 0.52025    0.50378222 0.497804   0.50290909 0.50100333\n",
      " 0.50199692 0.50028571 0.49746667 0.5078775  0.50058118 0.49377778\n",
      " 0.49600211 0.502198  ]\n",
      "time for execution: 3740.698 seconds\n"
     ]
    }
   ],
   "source": [
    "# 100 times repeat averaging, with population size at the increment of 5\n",
    "tic = time.time()\n",
    "N = 50\n",
    "G_vD = []; H_vD = []\n",
    "for D_i in range(5,101,5):\n",
    "    G = []; H = []\n",
    "    for i in range(100):\n",
    "        w = hybridisation_no_selection_OptSpeed_1(P1=np.zeros([D_i,N]), P2=np.full([D_i,N],2),N=N, seedValue=None)\n",
    "        F_i = w[0]\n",
    "        G_i = w[1]\n",
    "        H_i = w[2]\n",
    "        G = np.append(G,G_i)\n",
    "        H = np.append(H,H_i)\n",
    "    G_vD = np.append(G_vD,np.mean(G))\n",
    "    H_vD = np.append(H_vD,np.mean(H))\n",
    "print(f\"mean generation time {G_vD}\")\n",
    "print(f\"mean hybrid index {H_vD}\")\n",
    "\n",
    "toc = time.time()\n",
    "print(f\"time for execution: {(toc-tic):.3f} seconds\")"
   ],
   "metadata": {
    "collapsed": false
   }
  },
  {
   "cell_type": "code",
   "execution_count": 15,
   "outputs": [
    {
     "data": {
      "text/plain": "Text(0, 0.5, 'time to fixation (G)')"
     },
     "execution_count": 15,
     "metadata": {},
     "output_type": "execute_result"
    },
    {
     "data": {
      "text/plain": "<Figure size 640x480 with 1 Axes>",
      "image/png": "[encoded data removed]"
     },
     "metadata": {},
     "output_type": "display_data"
    }
   ],
   "source": [
    "plt.plot(range(5,101,5),G_vD)\n",
    "plt.xlabel(\"D\")\n",
    "plt.ylabel(\"time to fixation (G)\")"
   ],
   "metadata": {
    "collapsed": false
   }
  },
  {
   "cell_type": "code",
   "execution_count": 16,
   "outputs": [
    {
     "data": {
      "text/plain": "Text(0, 0.5, 'hybridisation index (H)')"
     },
     "execution_count": 16,
     "metadata": {},
     "output_type": "execute_result"
    },
    {
     "data": {
      "text/plain": "<Figure size 640x480 with 1 Axes>",
      "image/png": "[encoded data removed]"
     },
     "metadata": {},
     "output_type": "display_data"
    }
   ],
   "source": [
    "plt.plot(range(5,101,5),H_vD)\n",
    "plt.ylim([0,1])\n",
    "plt.xlabel(\"N\")\n",
    "plt.ylabel(\"hybridisation index (H)\")"
   ],
   "metadata": {
    "collapsed": false
   }
  },
  {
   "cell_type": "markdown",
   "source": [
    "# Compare random mating with natural selection proportional to fitness"
   ],
   "metadata": {
    "collapsed": false
   }
  },
  {
   "cell_type": "code",
   "execution_count": 5,
   "outputs": [],
   "source": [
    "def fitness_val(der_ale, A, zWT, O):\n",
    "    z_i = zWT + np.matmul(A, der_ale)\n",
    "    z_sq = np.square(z_i - O)\n",
    "    w = np.ravel(np.exp(-np.sum(z_sq, axis=0)))  #np.ravel to flatten matrix into a 1D array\n",
    "    #log_w = np.log(w)\n",
    "    return w\n",
    "\n",
    "# chance of choosing parent proportional to their fitness\n",
    "def hybridisation_proportional_fitness(P1,P2,N,A,zWT,O,seedValue):\n",
    "    rng = np.random.default_rng(seedValue)\n",
    "    G = 1 #number of generations\n",
    "    D = P1.shape[0]\n",
    "    P1 = np.matrix(P1); P2 = np.matrix(P2)\n",
    "    P1_fit = fitness_val(P1,A,zWT,O)\n",
    "    P1_choice = np.random.choice(range(N),N,replace=True,p=(P1_fit)/sum(P1_fit))\n",
    "    S1 = np.zeros([D,1])\n",
    "    for i in P1_choice:\n",
    "        s = P1[:,i]\n",
    "        S1 = np.concatenate((S1,s),axis=1)\n",
    "    S1 = np.delete(S1,0,1)\n",
    "    P2_fit = fitness_val(P2,A,zWT,O)\n",
    "    P2_choice = np.random.choice(range(N),N,replace=True,p=(P2_fit)/sum(P2_fit))\n",
    "    # sample from the new population with replacement\n",
    "    S2 = np.zeros([D,1])\n",
    "    for i in P2_choice:\n",
    "        s = P2[:,i]\n",
    "        S2 = np.concatenate((S2,s),axis=1)\n",
    "    S2 = np.delete(S2,0,1)\n",
    "\n",
    "    np.place(S1,S1 == 1,rng.binomial(1,0.5,[D,N])*2)\n",
    "    np.place(S2,S2 == 1,rng.binomial(1,0.5,[D,N])*2)\n",
    "    F = np.matrix((S1 + S2)/2)\n",
    "\n",
    "    while 1 in F:\n",
    "        # sample two parental populations from the new population with replacement. Probability proportional to fitness\n",
    "        F_fit_1 = fitness_val(F,A,zWT,O)\n",
    "        P1_choice = np.random.choice(range(N),N,replace=True,p=(F_fit_1)/sum(F_fit_1))\n",
    "        S1 = np.zeros([D,1])\n",
    "        for i in P1_choice:\n",
    "            s = F[:,i]\n",
    "            S1 = np.concatenate((S1,s),axis=1)\n",
    "        S1 = np.delete(S1,0,1)\n",
    "        F_fit_2 = fitness_val(F,A,zWT,O)\n",
    "        P2_choice = np.random.choice(range(N),N,replace=True,p=(F_fit_2)/sum(F_fit_2))\n",
    "        # sample from the new population with replacement\n",
    "        S2 = np.zeros([D,1])\n",
    "        for i in P2_choice:\n",
    "            s = F[:,i]\n",
    "            S2 = np.concatenate((S2,s),axis=1)\n",
    "        S2 = np.delete(S2,0,1)\n",
    "        # a new hybridisation\n",
    "        np.place(S1,S1 == 1,rng.binomial(1,0.5,[D,N])*2)\n",
    "        np.place(S2,S2 == 1,rng.binomial(1,0.5,[D,N])*2)\n",
    "        F = (S1 + S2)/2\n",
    "        G += 1\n",
    "        #print(f\"F {G}\")\n",
    "        #print(F)\n",
    "    H = np.mean(F)/2\n",
    "    return F, G, H"
   ],
   "metadata": {
    "collapsed": false
   }
  },
  {
   "cell_type": "code",
   "execution_count": 8,
   "outputs": [
    {
     "name": "stdout",
     "output_type": "stream",
     "text": [
      "A\n",
      "[[ 0 -2  0  0 -1  2 -1 -1 -2  1]\n",
      " [ 1  0 -1  2  2  0  1  2 -2 -1]\n",
      " [-2 -2  0 -1  2  1  2  0  0  2]\n",
      " [ 1  2  0  2 -2 -2  0  0  2  1]\n",
      " [-1  2  1 -2 -1  1  2 -2 -1  1]]\n"
     ]
    },
    {
     "name": "stderr",
     "output_type": "stream",
     "text": [
      "\n",
      "KeyboardInterrupt\n",
      "\n"
     ]
    }
   ],
   "source": [
    "# 100 times repeat averaging, with population size at the increment of 5\n",
    "tic = time.time()\n",
    "D = 10; n = 5\n",
    "rng = np.random.default_rng(102)\n",
    "A = rng.integers(low=-2,high=3,size=[n,D])\n",
    "print(f\"A\\n{A}\")\n",
    "\n",
    "G_fit = []; H_fit = []\n",
    "for N_i in range(5,101,5):\n",
    "    G = []; H = []\n",
    "    zWT_0 = np.zeros([n,N_i])\n",
    "    O = np.zeros([n,N_i])\n",
    "    for i in range(100):\n",
    "        w = hybridisation_proportional_fitness(P1=np.zeros([D,N_i]), P2=np.full([D,N_i],2),N=N_i,A=A,zWT=zWT_0,O=O, seedValue=None)\n",
    "        F_i = w[0]\n",
    "        G_i = w[1]\n",
    "        H_i = w[2]\n",
    "        G = np.append(G,G_i)\n",
    "        H = np.append(H,H_i)\n",
    "    G_fit = np.append(G_fit,np.mean(G))\n",
    "    H_fit = np.append(H_fit,np.mean(H))\n",
    "print(f\"mean generation time {G_fit}\")\n",
    "print(f\"mean hybrid index {H_fit}\")\n",
    "toc=time.time()\n",
    "print(f\"time of execution: {(toc-tic):.3f} seconds\")"
   ],
   "metadata": {
    "collapsed": false
   }
  },
  {
   "cell_type": "code",
   "execution_count": null,
   "outputs": [],
   "source": [
    "plt.plot(range(5,101,5),G_50,label=\"without selection\")\n",
    "plt.plot(range(5,101,5),G_fit,label=\"with selection\")\n",
    "plt.xlabel(\"N\")\n",
    "plt.ylabel(\"time to fixation (G)\")"
   ],
   "metadata": {
    "collapsed": false
   }
  },
  {
   "cell_type": "code",
   "execution_count": null,
   "outputs": [],
   "source": [
    "plt.plot(range(5,101,5),H_50,label=\"without selection\")\n",
    "plt.plot(range(5,101,5),H_fit,label=\"with selection\")\n",
    "plt.ylim([0,1])\n",
    "plt.xlabel(\"N\")\n",
    "plt.ylabel(\"hybridisation index (H)\")"
   ],
   "metadata": {
    "collapsed": false
   }
  },
  {
   "cell_type": "markdown",
   "source": [
    "# Hybridisation index represents the proportion of initial P1 and P2 genotypes under neutrality"
   ],
   "metadata": {
    "collapsed": false
   }
  },
  {
   "cell_type": "code",
   "execution_count": 9,
   "outputs": [
    {
     "name": "stdout",
     "output_type": "stream",
     "text": [
      "0.475\n"
     ]
    }
   ],
   "source": [
    "# change P2 to contain different proportions of 1s.\n",
    "D = 10; N = 20\n",
    "P1 = np.zeros([D,N])\n",
    "# expected H=0.45\n",
    "\n",
    "\n",
    "a = np.full([D-1,N],2)\n",
    "b = np.full([1,N],1)\n",
    "P2 = np.concatenate((a,b),axis=0)\n",
    "P1 = np.zeros([D,N])\n",
    "print(np.mean(P1+P2)/4)\n",
    "#w = hybridisation_no_selection_OptSpeed_1(P1,P2,N,seedValue=None)"
   ],
   "metadata": {
    "collapsed": false
   }
  },
  {
   "cell_type": "code",
   "execution_count": 3,
   "outputs": [
    {
     "name": "stdout",
     "output_type": "stream",
     "text": [
      "154\n"
     ]
    }
   ],
   "source": [
    "# change P2 to contain different proportions of 1s.\n",
    "D = 10; N = 20\n",
    "P1 = np.zeros([D,N])\n",
    "\n",
    "for i in range(1,N+1):\n",
    "    a = np.full([D-i,N],2)\n",
    "    b = np.full([i,N],1)\n",
    "    P2 = np.concatenate((a,b),axis=0)\n",
    "    H_exp = np.mean(P1+P2)/4"
   ],
   "metadata": {
    "collapsed": false
   }
  },
  {
   "cell_type": "code",
   "execution_count": 11,
   "outputs": [
    {
     "name": "stdout",
     "output_type": "stream",
     "text": [
      "mean generation time [133.65 133.84 127.8  124.41 133.5 ]\n",
      "mean hybrid index [0.49115 0.4892  0.5129  0.50005 0.50985]\n"
     ]
    }
   ],
   "source": [
    "# allele 2 / allele 0 ratio\n",
    "D = 10; N = 20\n",
    "rng = np.random.default_rng()\n",
    "\n",
    "ratio_upper = [0.5,0.4,0.3,0.2,0.1]\n",
    "P1 = np.zeros([D,N])\n",
    "G_vary = []; H_vary = []\n",
    "for r in ratio_upper:\n",
    "    p2 = rng.binomial(1,r*2,D*N)\n",
    "    P2 = np.reshape(p2,[D,N])*2\n",
    "    G = []; H = []\n",
    "    for i in range(100):\n",
    "        w = hybridisation_no_selection_OptSpeed_1(P1=np.zeros([D,N]), P2=np.full([D,N],2),N=N, seedValue=None)\n",
    "        #F_i = w[0]\n",
    "        G_i = w[1]\n",
    "        H_i = w[2]\n",
    "        G = np.append(G,G_i)\n",
    "        H = np.append(H,H_i)\n",
    "    G_vary = np.append(G_vary,np.mean(G))\n",
    "    H_vary = np.append(H_vary,np.mean(H))\n",
    "print(f\"mean generation time {G_vary}\")\n",
    "print(f\"mean hybrid index {H_vary}\")"
   ],
   "metadata": {
    "collapsed": false
   }
  },
  {
   "cell_type": "code",
   "execution_count": null,
   "outputs": [],
   "source": [],
   "metadata": {
    "collapsed": false
   }
  }
 ],
 "metadata": {
  "kernelspec": {
   "display_name": "Python 3",
   "language": "python",
   "name": "python3"
  },
  "language_info": {
   "codemirror_mode": {
    "name": "ipython",
    "version": 2
   },
   "file_extension": ".py",
   "mimetype": "text/x-python",
   "name": "python",
   "nbconvert_exporter": "python",
   "pygments_lexer": "ipython2",
   "version": "2.7.6"
  }
 },
 "nbformat": 4,
 "nbformat_minor": 0
}
