{
 "cells": [
  {
   "cell_type": "code",
   "execution_count": 3,
   "metadata": {
    "collapsed": true
   },
   "outputs": [],
   "source": [
    "import numpy as np\n",
    "import time"
   ]
  },
  {
   "cell_type": "code",
   "execution_count": 10,
   "outputs": [],
   "source": [
    "def hybridisation_no_selection_OptSpeed_0(P1,P2,N,seedValue):\n",
    "    rng = np.random.default_rng(seedValue)\n",
    "    G = 1 #number of generations\n",
    "    D = P1.shape[0]\n",
    "    C1 = P1 # have to keep the original draw to calculate fitness\n",
    "    np.place(C1,C1 == 1,rng.binomial(1,0.5,[D,N])*2)\n",
    "    C2 = P2\n",
    "    np.place(C2,C2 == 1,rng.binomial(1,0.5,[D,N])*2)\n",
    "    F = np.matrix((C1 + C2)/2)\n",
    "\n",
    "    while 1 in F:\n",
    "        # sample two parental populations from the new population with replacement\n",
    "        b1 = rng.integers(low=0,high=N,size=N)\n",
    "\n",
    "        S1 = np.zeros([D,1])\n",
    "        for i in b1:\n",
    "            s = F[:,i]\n",
    "            S1 = np.concatenate((S1,s),axis=1)\n",
    "        S1 = np.delete(S1,0,1)\n",
    "\n",
    "\n",
    "        b2 = rng.integers(low=0,high=N,size=N)\n",
    "        # sample from the new population with replacement\n",
    "        S2 = np.zeros([D,1])\n",
    "        for i in b2:\n",
    "            s = F[:,i]\n",
    "            S2 = np.concatenate((S2,s),axis=1)\n",
    "        S2 = np.delete(S2,0,1)\n",
    "\n",
    "        # a new hybridisation\n",
    "        C1 = S1\n",
    "        np.place(C1,C1 == 1,rng.binomial(1,0.5,[D,N])*2)\n",
    "\n",
    "        C2 = S2\n",
    "        np.place(C2,C2 == 1,rng.binomial(1,0.5,[D,N])*2)\n",
    "        F = (C1 + C2)/2\n",
    "        G += 1\n",
    "        #print(f\"F {G}\")\n",
    "        #print(F)\n",
    "    H = np.mean(F)/2\n",
    "\n",
    "    return F, G, H\n",
    "\n"
   ],
   "metadata": {
    "collapsed": false
   }
  },
  {
   "cell_type": "code",
   "execution_count": 11,
   "outputs": [
    {
     "name": "stdout",
     "output_type": "stream",
     "text": [
      "D = 10, N = 20, mean generation time: 127.27, mean hybrid index: 0.52295\n",
      "execution took 9.882 seconds\n"
     ]
    }
   ],
   "source": [
    "D_10 = 10; N_20 = 20\n",
    "A = []\n",
    "H = []\n",
    "\n",
    "tic = time.time()\n",
    "for i in range(100):\n",
    "    w = hybridisation_no_selection_OptSpeed_0(P1=np.zeros([10,20]),P2=np.full([10,20],2),N=20,seedValue = None)\n",
    "    F = w[0]\n",
    "    a = w[1]\n",
    "    h = w[2]\n",
    "    A.append(a)\n",
    "    H.append(h)\n",
    "    #print(f'F{a}\\n{F}')\n",
    "#print(A)\n",
    "print(f\"D = 10, N = 20, mean generation time: {np.mean(A)}, mean hybrid index: {np.mean(H)}\")\n",
    "\n",
    "toc = time.time()\n",
    "print(f\"execution took {(toc-tic):.3f} seconds\")"
   ],
   "metadata": {
    "collapsed": false
   }
  },
  {
   "cell_type": "code",
   "execution_count": null,
   "outputs": [],
   "source": [
    "gen_0_D10_N20 = [9.656,12.219,9.796,11.396,9.355]\n"
   ],
   "metadata": {
    "collapsed": false
   }
  },
  {
   "cell_type": "code",
   "execution_count": 16,
   "outputs": [],
   "source": [
    "# without making a copy\n",
    "def hybridisation_no_selection_OptSpeed_1(P1,P2,N,seedValue):\n",
    "    rng = np.random.default_rng(seedValue)\n",
    "    G = 1 #number of generations\n",
    "    D = P1.shape[0]\n",
    "    np.place(P1,P1 == 1,rng.binomial(1,0.5,[D,N])*2)\n",
    "    np.place(P2,P2 == 1,rng.binomial(1,0.5,[D,N])*2)\n",
    "    F = np.matrix((P1 + P2)/2)\n",
    "\n",
    "    while 1 in F:\n",
    "        # sample two parental populations from the new population with replacement\n",
    "        b1 = rng.integers(low=0,high=N,size=N)\n",
    "        S1 = np.zeros([D,1])\n",
    "        for i in b1:\n",
    "            s = F[:,i]\n",
    "            S1 = np.concatenate((S1,s),axis=1)\n",
    "        S1 = np.delete(S1,0,1)\n",
    "        b2 = rng.integers(low=0,high=N,size=N)\n",
    "        # sample from the new population with replacement\n",
    "        S2 = np.zeros([D,1])\n",
    "        for i in b2:\n",
    "            s = F[:,i]\n",
    "            S2 = np.concatenate((S2,s),axis=1)\n",
    "        S2 = np.delete(S2,0,1)\n",
    "        # a new hybridisation\n",
    "        np.place(S1,S1 == 1,rng.binomial(1,0.5,[D,N])*2)\n",
    "        np.place(S2,S2 == 1,rng.binomial(1,0.5,[D,N])*2)\n",
    "        F = (S1 + S2)/2\n",
    "        G += 1\n",
    "        #print(f\"F {G}\")\n",
    "        #print(F)\n",
    "    H = np.mean(F)/2\n",
    "    return F, G, H"
   ],
   "metadata": {
    "collapsed": false
   }
  },
  {
   "cell_type": "code",
   "execution_count": 42,
   "outputs": [],
   "source": [
    "# sampling: replace concatenation with array.append followed by matrix rearrangement\n",
    "def hybridisation_no_selection_OptSpeed_2(P1,P2,N,seedValue):\n",
    "    rng = np.random.default_rng(seedValue)\n",
    "    G = 1 #number of generations\n",
    "    D = P1.shape[0]\n",
    "    np.place(P1,P1 == 1,rng.binomial(1,0.5,[D,N])*2)\n",
    "    np.place(P2,P2 == 1,rng.binomial(1,0.5,[D,N])*2)\n",
    "    F = np.matrix((P1 + P2)/2)\n",
    "\n",
    "    while 1 in F:\n",
    "        # sample two parental populations from the new population with replacement\n",
    "        b1 = rng.integers(low=0,high=N,size=N)\n",
    "        S1 = np.array([])\n",
    "        for i in b1:\n",
    "            s = F[:,i]\n",
    "            S1 = np.append(S1,s)\n",
    "        S1 = np.reshape(np.matrix(S1),[N,D]).T\n",
    "        b2 = rng.integers(low=0,high=N,size=N)\n",
    "        # sample from the new population with replacement\n",
    "        S2 = np.array([])\n",
    "        for i in b2:\n",
    "            s = F[:,i]\n",
    "            S2 = np.append(S2,s)\n",
    "        S2 = np.reshape(np.matrix(S2),[N,D]).T\n",
    "        # a new hybridisation\n",
    "        np.place(S1,S1 == 1,rng.binomial(1,0.5,[D,N])*2)\n",
    "        np.place(S2,S2 == 1,rng.binomial(1,0.5,[D,N])*2)\n",
    "        F = (S1 + S2)/2\n",
    "        G += 1\n",
    "        #print(f\"F {G}\")\n",
    "        #print(F)\n",
    "    H = np.mean(F)/2\n",
    "    return F, G, H"
   ],
   "metadata": {
    "collapsed": false
   }
  },
  {
   "cell_type": "code",
   "execution_count": 45,
   "outputs": [],
   "source": [
    "\n",
    "w = hybridisation_no_selection_OptSpeed_2(P1=np.zeros([10,20]),P2=np.full([10,20],2),N=20,seedValue = None)\n",
    "print(w[0],w[1],w[2])"
   ],
   "metadata": {
    "collapsed": false
   }
  },
  {
   "cell_type": "code",
   "execution_count": 31,
   "outputs": [
    {
     "name": "stdout",
     "output_type": "stream",
     "text": [
      "[[1 2 3 4]\n",
      " [5 6 7 8]]\n",
      "[1. 5. 4. 8. 3. 7. 2. 6.]\n",
      "[[1. 5. 4. 8. 3. 7. 2. 6.]]\n",
      "[[1. 5.]\n",
      " [4. 8.]\n",
      " [3. 7.]\n",
      " [2. 6.]]\n",
      "[[1. 4. 3. 2.]\n",
      " [5. 8. 7. 6.]]\n",
      "float64\n"
     ]
    }
   ],
   "source": [
    "F = np.matrix([[1,2,3,4],[5,6,7,8]])\n",
    "print(F)\n",
    "A = []\n",
    "\n",
    "for i in np.array([0,3,2,1]):\n",
    "    s = F[:,i]\n",
    "    #print(s)\n",
    "    A = np.append(A,s)\n",
    "print(A)\n",
    "B = np.matrix(A)\n",
    "print(B)\n",
    "C = np.reshape(B,[4,2]) # [N,D]\n",
    "print(C)\n",
    "print(C.T)\n"
   ],
   "metadata": {
    "collapsed": false
   }
  },
  {
   "cell_type": "code",
   "execution_count": 29,
   "outputs": [
    {
     "name": "stdout",
     "output_type": "stream",
     "text": [
      "mean generation time \n",
      "[121.37, 131.11, 127.98, 133.01, 128.36, 135.7, 135.95, 136.51, 128.03, 134.49, 135.98, 137.21, 124.4, 125.03, 132.81, 131.61, 131.58, 141.23, 120.98, 133.47], mean of mean: 131.3405\n",
      "mean hybrid index \n",
      "[0.5058499999999999, 0.46904999999999997, 0.49705000000000005, 0.4991, 0.47415, 0.48499999999999993, 0.49605000000000005, 0.4978999999999999, 0.514, 0.5069, 0.5099, 0.4672, 0.49695000000000006, 0.50225, 0.47790000000000005, 0.5199999999999999, 0.4979, 0.5148999999999999, 0.47485000000000005, 0.51005], mean of mean: 0.4958475\n",
      "average time of execution 9.243\n"
     ]
    }
   ],
   "source": [
    "D_10 = 10; N_20 = 50\n",
    "\n",
    "At = []\n",
    "Ht = []\n",
    "T = []\n",
    "\n",
    "for i in range(20):\n",
    "    A = []\n",
    "    H = []\n",
    "\n",
    "    tic = time.time()\n",
    "    for i in range(100):\n",
    "        w = hybridisation_no_selection_OptSpeed_0(P1=np.zeros([10,20]),P2=np.full([10,20],2),N=20,seedValue = None)\n",
    "        #F = w[0]\n",
    "        a = w[1]\n",
    "        h = w[2]\n",
    "        A.append(a)\n",
    "        H.append(h)\n",
    "        #print(f'F{a}\\n{F}')\n",
    "    #print(A)\n",
    "    #print(f\"D = 10, N = 20, mean generation time: {np.mean(A)}, mean hybrid index: {np.mean(H)}\")\n",
    "\n",
    "    toc = time.time()\n",
    "    #print(f\"execution took {(toc-tic):.3f} seconds\")\n",
    "    t = toc-tic\n",
    "    T.append(t)\n",
    "    At.append(np.mean(A))\n",
    "    Ht.append(np.mean(H))\n",
    "print(f\"mean generation time \\n{At}, mean of mean: {np.mean(At)}\")\n",
    "print(f\"mean hybrid index \\n{Ht}, mean of mean: {np.mean(Ht)}\")\n",
    "print(f\"average time of 100 executions {np.mean(T):.3f} seconds\")"
   ],
   "metadata": {
    "collapsed": false
   }
  },
  {
   "cell_type": "code",
   "execution_count": 30,
   "outputs": [
    {
     "name": "stdout",
     "output_type": "stream",
     "text": [
      "mean generation time \n",
      "[121.62, 135.24, 128.73, 134.13, 140.03, 135.09, 131.72, 118.92, 138.57, 127.91, 138.97, 132.48, 127.82, 136.49, 138.24, 130.64, 130.02, 131.38, 132.19, 142.09], mean of mean: 132.614\n",
      "mean hybrid index \n",
      "[0.5092, 0.49705000000000005, 0.5069, 0.52765, 0.4890499999999999, 0.5199499999999999, 0.4869, 0.5232500000000001, 0.48585, 0.4999, 0.4919, 0.49475, 0.49894999999999995, 0.5121499999999999, 0.5238999999999999, 0.50985, 0.46684999999999993, 0.5130500000000001, 0.5102500000000001, 0.4790499999999999], mean of mean: 0.5023199999999999\n",
      "average time of execution 8.606\n"
     ]
    }
   ],
   "source": [
    "ZD_10 = 10; N_20 = 20\n",
    "\n",
    "At = []\n",
    "Ht = []\n",
    "T = []\n",
    "\n",
    "for i in range(20):\n",
    "    A = []\n",
    "    H = []\n",
    "\n",
    "    tic = time.time()\n",
    "    for i in range(100):\n",
    "        w = hybridisation_no_selection_OptSpeed_1(P1=np.zeros([10,20]),P2=np.full([10,20],2),N=20,seedValue = None)\n",
    "        #F = w[0]\n",
    "        a = w[1]\n",
    "        h = w[2]\n",
    "        A.append(a)\n",
    "        H.append(h)\n",
    "        #print(f'F{a}\\n{F}')\n",
    "    #print(A)\n",
    "    #print(f\"D = 10, N = 20, mean generation time: {np.mean(A)}, mean hybrid index: {np.mean(H)}\")\n",
    "\n",
    "    toc = time.time()\n",
    "    #print(f\"execution took {(toc-tic):.3f} seconds\")\n",
    "    t = toc-tic\n",
    "    T.append(t)\n",
    "    At.append(np.mean(A))\n",
    "    Ht.append(np.mean(H))\n",
    "print(f\"mean generation time \\n{At}, mean of mean: {np.mean(At)}\")\n",
    "print(f\"mean hybrid index \\n{Ht}, mean of mean: {np.mean(Ht)}\")\n",
    "print(f\"average time of 100 executions {np.mean(T):.3f} seconds\")"
   ],
   "metadata": {
    "collapsed": false
   }
  },
  {
   "cell_type": "code",
   "execution_count": 44,
   "outputs": [
    {
     "name": "stdout",
     "output_type": "stream",
     "text": [
      "mean generation time \n",
      "[133.46, 128.47, 134.29, 128.69, 129.38, 130.93, 134.35, 140.81, 142.82, 131.01, 137.22, 132.19, 134.31, 135.28, 128.16, 137.28, 127.78, 129.74, 126.99, 121.76], mean of mean: 132.246\n",
      "mean hybrid index \n",
      "[0.5229499999999999, 0.4838, 0.5211000000000001, 0.47690000000000005, 0.51095, 0.47785000000000005, 0.49920000000000003, 0.49584999999999996, 0.49989999999999996, 0.5300499999999999, 0.49405, 0.5049999999999999, 0.48795, 0.5208499999999999, 0.5119, 0.51315, 0.4989999999999999, 0.48690000000000005, 0.533, 0.47605], mean of mean: 0.50232\n",
      "average time of 100 executions 11.775 seconds\n"
     ]
    }
   ],
   "source": [
    "ZD_10 = 10; N_20 = 20\n",
    "\n",
    "At = []\n",
    "Ht = []\n",
    "T = []\n",
    "\n",
    "for i in range(20):\n",
    "    A = []\n",
    "    H = []\n",
    "\n",
    "    tic = time.time()\n",
    "    for i in range(100):\n",
    "        w = hybridisation_no_selection_OptSpeed_2(P1=np.zeros([10,20]),P2=np.full([10,20],2),N=20,seedValue = None)\n",
    "        #F = w[0]\n",
    "        a = w[1]\n",
    "        h = w[2]\n",
    "        A.append(a)\n",
    "        H.append(h)\n",
    "        #print(f'F{a}\\n{F}')\n",
    "    #print(A)\n",
    "    #print(f\"D = 10, N = 20, mean generation time: {np.mean(A)}, mean hybrid index: {np.mean(H)}\")\n",
    "\n",
    "    toc = time.time()\n",
    "    #print(f\"execution took {(toc-tic):.3f} seconds\")\n",
    "    t = toc-tic\n",
    "    T.append(t)\n",
    "    At.append(np.mean(A))\n",
    "    Ht.append(np.mean(H))\n",
    "print(f\"mean generation time \\n{At}, mean of mean: {np.mean(At)}\")\n",
    "print(f\"mean hybrid index \\n{Ht}, mean of mean: {np.mean(Ht)}\")\n",
    "print(f\"average time of 100 executions {np.mean(T):.3f} seconds\")"
   ],
   "metadata": {
    "collapsed": false
   }
  },
  {
   "cell_type": "markdown",
   "source": [
    "The third attempt turns out to be the worst of all."
   ],
   "metadata": {
    "collapsed": false
   }
  }
 ],
 "metadata": {
  "kernelspec": {
   "display_name": "Python 3",
   "language": "python",
   "name": "python3"
  },
  "language_info": {
   "codemirror_mode": {
    "name": "ipython",
    "version": 2
   },
   "file_extension": ".py",
   "mimetype": "text/x-python",
   "name": "python",
   "nbconvert_exporter": "python",
   "pygments_lexer": "ipython2",
   "version": "2.7.6"
  }
 },
 "nbformat": 4,
 "nbformat_minor": 0
}
