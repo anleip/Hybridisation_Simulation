{
 "cells": [
  {
   "cell_type": "code",
   "execution_count": 1,
   "metadata": {},
   "outputs": [],
   "source": [
    "import numpy as np"
   ]
  },
  {
   "cell_type": "code",
   "execution_count": 2,
   "metadata": {},
   "outputs": [],
   "source": [
    "def fitness_val(der_ale,A,zWT,O):\n",
    "    z_i = zWT + np.matmul(A,der_ale)\n",
    "    z_sq = np.square(z_i-O)\n",
    "    w = np.ravel(np.exp(-np.sum(z_sq,axis=0))) #np.ravel to flatten matrix into a 1D array\n",
    "    #log_w = np.log(w)\n",
    "    return w"
   ]
  },
  {
   "cell_type": "code",
   "execution_count": 3,
   "metadata": {},
   "outputs": [],
   "source": [
    "# chance of choosing parent proportional to their fitness\n",
    "def hybridisation_proportional_fitness(P1,P2,N,A,zWT,O,seedValue):\n",
    "    rng = np.random.default_rng(seedValue)\n",
    "    G = 1 #number of generations\n",
    "    D = P1.shape[0]\n",
    "    P1 = np.matrix(P1); P2 = np.matrix(P2)\n",
    "    P1_fit = fitness_val(P1,A,zWT,O)\n",
    "    P1_choice = np.random.choice(range(N),N,replace=True,p=(P1_fit)/sum(P1_fit))\n",
    "    S1 = np.zeros([D,1])\n",
    "    for i in P1_choice:\n",
    "        s = P1[:,i]\n",
    "        S1 = np.concatenate((S1,s),axis=1)\n",
    "    S1 = np.delete(S1,0,1)\n",
    "    P2_fit = fitness_val(P2,A,zWT,O)\n",
    "    P2_choice = np.random.choice(range(N),N,replace=True,p=(P2_fit)/sum(P2_fit))\n",
    "    # sample from the new population with replacement\n",
    "    S2 = np.zeros([D,1])\n",
    "    for i in P2_choice:\n",
    "        s = P2[:,i]\n",
    "        S2 = np.concatenate((S2,s),axis=1)\n",
    "    S2 = np.delete(S2,0,1)\n",
    "\n",
    "    np.place(S1,S1 == 1,rng.binomial(1,0.5,[D,N])*2)\n",
    "    np.place(S2,S2 == 1,rng.binomial(1,0.5,[D,N])*2)\n",
    "    F = np.matrix((S1 + S2)/2)\n",
    "\n",
    "    while 1 in F:\n",
    "        # sample two parental populations from the new population with replacement. Probability proportional to fitness\n",
    "        F_fit_1 = fitness_val(F,A,zWT,O)\n",
    "        P1_choice = np.random.choice(range(N),N,replace=True,p=(F_fit_1)/sum(F_fit_1))\n",
    "        S1 = np.zeros([D,1])\n",
    "        for i in P1_choice:\n",
    "            s = F[:,i]\n",
    "            S1 = np.concatenate((S1,s),axis=1)\n",
    "        S1 = np.delete(S1,0,1)\n",
    "        F_fit_2 = fitness_val(F,A,zWT,O)\n",
    "        P2_choice = np.random.choice(range(N),N,replace=True,p=(F_fit_2)/sum(F_fit_2))\n",
    "        # sample from the new population with replacement\n",
    "        S2 = np.zeros([D,1])\n",
    "        for i in P2_choice:\n",
    "            s = F[:,i]\n",
    "            S2 = np.concatenate((S2,s),axis=1)\n",
    "        S2 = np.delete(S2,0,1)\n",
    "        # a new hybridisation\n",
    "        np.place(S1,S1 == 1,rng.binomial(1,0.5,[D,N])*2)\n",
    "        np.place(S2,S2 == 1,rng.binomial(1,0.5,[D,N])*2)\n",
    "        F = (S1 + S2)/2\n",
    "        G += 1\n",
    "        #print(f\"F {G}\")\n",
    "        # print(F)\n",
    "    H = np.mean(F)/2\n",
    "    return F, G, H"
   ]
  },
  {
   "cell_type": "markdown",
   "metadata": {},
   "source": [
    "# Power of selection"
   ]
  },
  {
   "cell_type": "markdown",
   "metadata": {},
   "source": [
    "To investigate the effect of selection proportional to fitness, we simulate hybridisation using P1 as a population with individuals that have genotype that gives the best fitness (i.e. $w = 1$)."
   ]
  },
  {
   "cell_type": "markdown",
   "metadata": {},
   "source": [
    "The extent of selection is measured by the selection coefficient $s$, which is defined as\n",
    "$$ \\frac{w'}{w} - 1 \\equiv s$$\n",
    "where $w$ and $w'$ are the fitness of an individual before and after a change in genotype."
   ]
  },
  {
   "cell_type": "markdown",
   "metadata": {},
   "source": [
    "$s$ can be any positive or negative number. When the change in genotype reduces the fitness of the individual, i.e. $w' < w$, $s$ will be negative, and $\\textit{vice versa}$."
   ]
  },
  {
   "cell_type": "markdown",
   "metadata": {},
   "source": [
    "The above formula can be rearranged as\n",
    "$$s + 1 = \\frac{w'}{w}$$\n",
    "so\n",
    "$$\\ln(s+1) = \\lnw' - \\lnw$$"
   ]
  },
  {
   "cell_type": "markdown",
   "metadata": {},
   "source": [
    "Since $ln(1+s) \\approx s$ when $s$ is small, $s \\approx \\ln{w'} - \\ln{w}$ when $s$ is small. In this case where $w=1$, $\\ln{w}=0$, so\n",
    "$$s \\approx \\ln{w'}$$"
   ]
  },
  {
   "cell_type": "markdown",
   "metadata": {},
   "source": [
    "### known:\n",
    "There are two hybridising populations, $P1$ and $P2$.\n",
    "\n",
    "$P1$ and $P2$ differ genetically at $D$ variable loci, each of which contains two possible alleles, the reference allele and the derived allele. At each locus, an individual can carry 0,1,or 2 copies of the derived allele, so the genotype of any individual can be represented by a vector of length $D$. The genotype at locus $j$, $g_{j}$ ($j=1,2,...,D$), can contain value 0, 1 or 2. The genotype of a population is therefore represented by a $D$ by $N$ matrix called the $G$ matrix.\n",
    "\n",
    "#### from genotype to phenotype\n",
    "\n",
    "\n",
    "(Assume Fisher's geometric model)\n",
    "Assume that there is no interaction between the two alleles of the same locus in a diploid genome. A trait that is associated with the locus will have a value of the trait value of the reference genotype plus the additional effect brought by any number of derived alleles (i.e. if the phenotypic effect of a homozygous reference allele on a particular trait is $z_{WT,i}$, and the phenotypic effect of one derived allele one the same trait is $a_{i}$, then a genotype of 0 will have trait value $z_{WT,i}$, a genotype of 1 will have $z_{WT,i} + a_{i}$ and a genotype of 2 will have $z_{WT,i} + 2a_{i}$.\n",
    "\n",
    "Each genetic locus affects the phenotype of an individual at one or more traits. The total number of traits that could be affected by D variable loci is n. The phenotypic effect of all D loci on n traits can be represented by an n by D matrix called the $A$ matrix, with the effect of locus $j (j = 1,2,...,D)$ on trait $i (i = 1,2,...,n)$ represented as $a_{ij}$.\n",
    "\n",
    "The trait value of a reference genotype (with no derived alleles) is denoted by z_{WT}.\n",
    "\n",
    "For an arbitrary genotype, the value of trait i is given by\n",
    "$$\n",
    "z_{i} = z_{WT,i} + \\sum_{j=1}^{D} g_j\\,a_{ij}\n",
    "$$\n",
    "\n",
    "#### from phenotype to fitness\n",
    "The fitness of a genotype, $w$, follows directly from all of its traits values. The optimal value of each trait is $o_{i}$ for trait $i$. The overall fitness of an individual is calculated by\n",
    "$$\n",
    "w = exp(- \\sum_{i=1}^{n}(z_{i} - o_{i})^2)\n",
    "$$\n",
    "Note that, if an individual has an optimum value at all traits, it will have an overall fitness of $e^{-0} = 1$. If an individual has a trait value that deviates from the optimum trait value in either direction (i.e. too large or oo small), its fitness will be less than 1. The minimum fitness value is zero.\n",
    "\n",
    "### what do we start with:\n",
    "All individuals from both populations are homozygous in their variable loci. At all of their loci, the $P1$ population contains the reference allele, and the $P2$ population contains the derived allele. Therefore, the G matrix for P1 is a matrix of 0s, and the G matrix for P2 is a matrix of 2s."
   ]
  },
  {
   "cell_type": "markdown",
   "metadata": {},
   "source": [
    "## Epistasis in this model\n",
    "while the phenotypic effects of different gene loci are purely additive, their effect on fitness can have interation between each other.\n",
    "\n",
    "When each trait is affected by only one locus, the sum of log fitness of all individual loci is equal to the sum of log fitness of all individual trait. When there are more than one gene locus affecting the same trait, there exists an additional fitness effect. This is because while individual log fitness effects of one particular locus is the sum of squares of the phenotypic effects it has on all traits, total fitness effects is calculated as the sum of fitness effects of all the traits, each is calculated by summing the effects from all loci and then squaring.\n",
    "\n",
    "(matrix A is D by n)\n",
    "\n",
    "Note that the total fitness value."
   ]
  },
  {
   "cell_type": "markdown",
   "metadata": {},
   "source": [
    "## Case 1: Additive effects only"
   ]
  },
  {
   "cell_type": "markdown",
   "metadata": {},
   "source": [
    "In a simple case, each locus only affects one trait, and each trait is affected by only one locus. Matrix A can be represented by an n by n matrix with non-zero values in the diagonal only:"
   ]
  },
  {
   "cell_type": "markdown",
   "metadata": {},
   "source": [
    "$$\n",
    "\\left(\\begin{array}{cc}\n",
    "a_{1} & 0 &0 & \\dots & 0  \\\\\n",
    "0 & a_{2} & 0 & \\dots & 0 \\\\\n",
    "0 & 0  & \\ddots & \\dots & \\vdots  \\\\\n",
    "\\vdots & \\vdots & \\vdots & \\ddots & 0 \\\\\n",
    "0 & 0 & \\dots & 0 & a_{n}\n",
    "\\end{array}\\right)\n",
    "\n",
    "$$"
   ]
  },
  {
   "cell_type": "markdown",
   "metadata": {},
   "source": [
    "For simplicity, all the non-zero values are set as z."
   ]
  },
  {
   "cell_type": "code",
   "execution_count": 4,
   "metadata": {},
   "outputs": [],
   "source": [
    "D = 5; N = 10; n = 5\n",
    "# Create an A matrix of dimension n*D, n = D. Each gene locus has a phenotypic effect of z on their respective trait.\n",
    "z = 0.01\n",
    "A= np.diagflat(np.full([1,D],z))\n",
    "\n",
    "P1 = np.zeros([D,N]); P2 = np.full([D,N],2)\n",
    "# zWT and O both zeros\n",
    "zWT = np.zeros([n,N])\n",
    "O = np.zeros([n,N])"
   ]
  },
  {
   "cell_type": "code",
   "execution_count": 5,
   "metadata": {},
   "outputs": [
    {
     "name": "stdout",
     "output_type": "stream",
     "text": [
      "[1. 1. 1. 1. 1. 1. 1. 1. 1. 1.]\n",
      "[0.998002 0.998002 0.998002 0.998002 0.998002 0.998002 0.998002 0.998002\n",
      " 0.998002 0.998002]\n"
     ]
    }
   ],
   "source": [
    "w1 = fitness_val(P1,A,zWT,O)\n",
    "w2 = fitness_val(P2,A,zWT,O)\n",
    "print(w1)\n",
    "print(w2)"
   ]
  },
  {
   "cell_type": "code",
   "execution_count": 6,
   "metadata": {},
   "outputs": [
    {
     "name": "stdout",
     "output_type": "stream",
     "text": [
      "(matrix([[0., 0., 0., 0., 0., 0., 0., 0., 0., 0.],\n",
      "        [0., 0., 0., 0., 0., 0., 0., 0., 0., 0.],\n",
      "        [2., 2., 2., 2., 2., 2., 2., 2., 2., 2.],\n",
      "        [0., 0., 0., 0., 0., 0., 0., 0., 0., 0.],\n",
      "        [2., 2., 2., 2., 2., 2., 2., 2., 2., 2.]]), 53, 0.4)\n"
     ]
    }
   ],
   "source": [
    "w = hybridisation_proportional_fitness(P1,P2,N,A,zWT,O,None)\n",
    "print(w)"
   ]
  },
  {
   "cell_type": "code",
   "execution_count": 7,
   "outputs": [
    {
     "name": "stdout",
     "output_type": "stream",
     "text": [
      "s is equal to -0.001999999999999988\n"
     ]
    }
   ],
   "source": [
    "s = np.log(w2[0])\n",
    "print(f's is equal to {s}')"
   ],
   "metadata": {
    "collapsed": false
   }
  },
  {
   "cell_type": "markdown",
   "source": [
    "Selection coefficient s is approximated as $ln(w2)$.\n",
    "\n",
    "Note that when $N|s| > 1$, selection is effective.\n",
    "\n",
    "In this case where N = 10, s needs to be greater than 0.1 to be effective."
   ],
   "metadata": {
    "collapsed": false
   }
  },
  {
   "cell_type": "code",
   "execution_count": null,
   "outputs": [],
   "source": [
    "# Change value of z. Show generation time decreases as s increases, and final population are more likely to be all 0s. Use N = 20.\n"
   ],
   "metadata": {
    "collapsed": false
   }
  },
  {
   "cell_type": "code",
   "execution_count": null,
   "outputs": [],
   "source": [],
   "metadata": {
    "collapsed": false
   }
  },
  {
   "cell_type": "markdown",
   "metadata": {},
   "source": [
    "# Maximum epistasis\n",
    "\n",
    "Matrix A has one trait affected by all loci."
   ]
  },
  {
   "cell_type": "code",
   "execution_count": 7,
   "metadata": {},
   "outputs": [],
   "source": []
  }
 ],
 "metadata": {
  "kernelspec": {
   "display_name": "Python 3 (ipykernel)",
   "language": "python",
   "name": "python3"
  },
  "language_info": {
   "codemirror_mode": {
    "name": "ipython",
    "version": 3
   },
   "file_extension": ".py",
   "mimetype": "text/x-python",
   "name": "python",
   "nbconvert_exporter": "python",
   "pygments_lexer": "ipython3",
   "version": "3.10.6"
  }
 },
 "nbformat": 4,
 "nbformat_minor": 1
}
